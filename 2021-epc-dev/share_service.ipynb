{
 "cells": [
  {
   "cell_type": "markdown",
   "metadata": {},
   "source": [
    "# Sharing Services"
   ]
  },
  {
   "cell_type": "code",
   "execution_count": null,
   "metadata": {},
   "outputs": [],
   "source": [
    "# Common Imports\n",
    "from arcgis.gis import GIS, Item"
   ]
  },
  {
   "cell_type": "code",
   "execution_count": 13,
   "metadata": {},
   "outputs": [
    {
     "name": "stdout",
     "output_type": "stream",
     "text": [
      "Enter password: ········\n"
     ]
    }
   ],
   "source": [
    "# Source GIS\n",
    "gis = GIS(username=\"kholleran_cs\")"
   ]
  },
  {
   "cell_type": "markdown",
   "metadata": {},
   "source": [
    "# Share via group"
   ]
  },
  {
   "cell_type": "code",
   "execution_count": null,
   "metadata": {},
   "outputs": [],
   "source": [
    "# Grab the layer(s) to share\n",
    "my_feature_lyr_item = Item(gis, '35242bde2e2149ad8e52f8c634edb2d3')\n",
    "\n",
    "# Create an empty layer\n",
    "cloned_feature_lyr_item = gis.content.clone_items(\n",
    "    [my_feature_lyr_item],\n",
    "    folder='@epc2021demo',\n",
    "    copy_data=False,\n",
    "    search_existing_items=False\n",
    ")\n",
    "\n",
    "# Rename the cloned content\n",
    "new_feature_lyr_item = cloned_feature_lyr_item[0]\n",
    "new_feature_lyr_item.update({\n",
    "    'title': 'Shared Hydrant Inspections'\n",
    "})\n",
    "\n",
    "new_feature_lyr_item"
   ]
  },
  {
   "cell_type": "code",
   "execution_count": null,
   "metadata": {},
   "outputs": [],
   "source": [
    "# Create a Group\n",
    "group_schema = {\n",
    "    \"title\": \"EPC 2021 Demo Group\",\n",
    "    \"tags\": \"test, group, poc, epc\",\n",
    "    \"description\": \"My descriptive group to showcase sharing data via a group\",\n",
    "    \"access\": 'private',\n",
    "    \"is_invitation_only\": True,\n",
    "    \"users_update_items\": False\n",
    "}\n",
    "\n",
    "group = gis.groups.create_from_dict(group_schema)"
   ]
  },
  {
   "cell_type": "code",
   "execution_count": 42,
   "metadata": {},
   "outputs": [
    {
     "data": {
      "text/plain": [
       "True"
      ]
     },
     "execution_count": 42,
     "metadata": {},
     "output_type": "execute_result"
    }
   ],
   "source": [
    "# Invite User to Group via their ArcGIS Online Username\n",
    "\n",
    "usernames=['kel10340@esri.com_EPN']\n",
    "group.invite_users(usernames)\n",
    "# User will receive a notification to accept the invite\n"
   ]
  },
  {
   "cell_type": "code",
   "execution_count": 43,
   "metadata": {},
   "outputs": [
    {
     "data": {
      "text/plain": [
       "{'results': [{'itemId': '1d099d53d4534d35bd3cd3c726e48eac',\n",
       "   'success': True,\n",
       "   'notSharedWith': []}]}"
      ]
     },
     "execution_count": 43,
     "metadata": {},
     "output_type": "execute_result"
    }
   ],
   "source": [
    "# Share the item to the group\n",
    "gis.content.share_items([empty_lyr_item], groups=[group])"
   ]
  },
  {
   "cell_type": "markdown",
   "metadata": {},
   "source": [
    "# Publish Service Directly"
   ]
  },
  {
   "cell_type": "code",
   "execution_count": 49,
   "metadata": {},
   "outputs": [],
   "source": [
    "target_gis = GIS(\n",
    "    token=\"JfXklpqbgYljOkfhqbhI75z_2iLfYdqCYQLRaDjZfhsGwg_LD69gx4ywPlnyjHJIdQlL9nrsO3WLGGbQKMAzEAKeiK7EaW_jcmxHYIEV240b_PJTikVEcovqu3xJVGhduUJS633_6KepBfRI8p7DqAwm4yH6uzCSWRqEiWut3mxODxU6upzAl5wsRDNDkFlDIp5z2EQDSSYZWr1uz88W0BsECacWEtbbVHyIy76e214\"\n",
    ")"
   ]
  },
  {
   "cell_type": "code",
   "execution_count": null,
   "metadata": {},
   "outputs": [],
   "source": [
    "# publish the results directly to that GIS\n",
    "cloned_feature_lyr_item2 = target_gis.content.clone_items(\n",
    "    [my_feature_lyr_item],\n",
    "    folder='@epc2021demos',\n",
    "    copy_data=True,\n",
    ")\n",
    "empty_lyr_item = cloned_feature_lyr_item2[0]\n",
    "empty_lyr_item"
   ]
  }
 ],
 "metadata": {
  "kernelspec": {
   "display_name": "Python 3",
   "language": "python",
   "name": "python3"
  },
  "language_info": {
   "codemirror_mode": {
    "name": "ipython",
    "version": 3
   },
   "file_extension": ".py",
   "mimetype": "text/x-python",
   "name": "python",
   "nbconvert_exporter": "python",
   "pygments_lexer": "ipython3",
   "version": "3.7.6"
  }
 },
 "nbformat": 4,
 "nbformat_minor": 4
}
